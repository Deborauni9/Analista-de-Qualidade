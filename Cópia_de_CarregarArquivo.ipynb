{
  "nbformat": 4,
  "nbformat_minor": 0,
  "metadata": {
    "colab": {
      "provenance": [],
      "authorship_tag": "ABX9TyNZi6OMEk7cHRAj+hqgEgJ7",
      "include_colab_link": true
    },
    "kernelspec": {
      "name": "python3",
      "display_name": "Python 3"
    },
    "language_info": {
      "name": "python"
    }
  },
  "cells": [
    {
      "cell_type": "markdown",
      "metadata": {
        "id": "view-in-github",
        "colab_type": "text"
      },
      "source": [
        "<a href=\"https://colab.research.google.com/github/Deborauni9/Analista-de-Qualidade/blob/main/C%C3%B3pia_de_CarregarArquivo.ipynb\" target=\"_parent\"><img src=\"https://colab.research.google.com/assets/colab-badge.svg\" alt=\"Open In Colab\"/></a>"
      ]
    },
    {
      "cell_type": "code",
      "execution_count": null,
      "metadata": {
        "id": "DoZY7263FMW8"
      },
      "outputs": [],
      "source": [
        "import pandas as pd\n",
        "from matplotlib import pyplot as plt\n",
        "\n",
        "arquivo = 'https://raw.githubusercontent.com/janiosl/python.ds/master/data/yahoo_stock_12-12-2020.csv'\n",
        "acoes = pd.read_csv(arquivo)\n",
        "acoes.head()\n",
        "\n",
        "media = acoes.Close[:30].mean()\n",
        "media\n",
        "\n",
        "mediana = acoes.Close[:30].median()\n",
        "mediana\n",
        "\n",
        "plt.plot(acoes.Close[:30])\n",
        "#plt.plot([media for k in range(0, len(acoes.Close[:30]))], '--')\n",
        "plt.plot([mediana for k in range(0, len(acoes.Close[:30]))], '.')\n",
        "plt.legend(['Preço', 'Média de Preços', 'Mediana de Preços'])\n",
        "\n",
        "\n",
        "plt.hist(acoes.Close)\n",
        "plt.title('Histograma do Preço de Ações - Período Completo')\n",
        "plt.xlabel('Faixas de Valores')\n",
        "plt.ylabel('Contagem de Observações')\n",
        "\n",
        "\n",
        "plt.boxplot(acoes.Close)\n",
        "\n",
        "\n",
        "dias = 30\n",
        "plt.hist(acoes.Close[:dias])\n",
        "plt.title(f'Histograma do Preço de Ações - Primeiros {dias} dias')\n",
        "plt.xlabel('Faixas de Valores')\n",
        "plt.ylabel('Contagem de Observações')\n",
        "\n",
        "plt.boxplot(acoes.Close[:30])\n",
        "\n"
      ]
    }
  ]
}